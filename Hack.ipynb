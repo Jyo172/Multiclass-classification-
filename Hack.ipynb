{
 "cells": [
  {
   "cell_type": "code",
   "execution_count": 2,
   "metadata": {},
   "outputs": [],
   "source": [
    "import numpy as np\n",
    "import pandas as pd\n",
    "import matplotlib.pyplot as plt\n",
    "import seaborn as sns\n",
    "from sklearn.model_selection import train_test_split\n",
    "import warnings\n",
    "warnings.filterwarnings('ignore')"
   ]
  },
  {
   "cell_type": "code",
   "execution_count": 3,
   "metadata": {},
   "outputs": [],
   "source": [
    "df=pd.read_json(r'C:\\Users\\Sunny\\Desktop\\New folder\\Hack\\file.json',lines=True)"
   ]
  },
  {
   "cell_type": "code",
   "execution_count": 4,
   "metadata": {},
   "outputs": [
    {
     "data": {
      "text/html": [
       "<div>\n",
       "<style scoped>\n",
       "    .dataframe tbody tr th:only-of-type {\n",
       "        vertical-align: middle;\n",
       "    }\n",
       "\n",
       "    .dataframe tbody tr th {\n",
       "        vertical-align: top;\n",
       "    }\n",
       "\n",
       "    .dataframe thead th {\n",
       "        text-align: right;\n",
       "    }\n",
       "</style>\n",
       "<table border=\"1\" class=\"dataframe\">\n",
       "  <thead>\n",
       "    <tr style=\"text-align: right;\">\n",
       "      <th></th>\n",
       "      <th>bra size</th>\n",
       "      <th>bust</th>\n",
       "      <th>category</th>\n",
       "      <th>cup size</th>\n",
       "      <th>fit</th>\n",
       "      <th>height</th>\n",
       "      <th>hips</th>\n",
       "      <th>item_id</th>\n",
       "      <th>length</th>\n",
       "      <th>quality</th>\n",
       "      <th>review_summary</th>\n",
       "      <th>review_text</th>\n",
       "      <th>shoe size</th>\n",
       "      <th>shoe width</th>\n",
       "      <th>size</th>\n",
       "      <th>user_id</th>\n",
       "      <th>user_name</th>\n",
       "      <th>waist</th>\n",
       "    </tr>\n",
       "  </thead>\n",
       "  <tbody>\n",
       "    <tr>\n",
       "      <th>0</th>\n",
       "      <td>34.0</td>\n",
       "      <td>36</td>\n",
       "      <td>new</td>\n",
       "      <td>d</td>\n",
       "      <td>small</td>\n",
       "      <td>5ft 6in</td>\n",
       "      <td>38.0</td>\n",
       "      <td>123373</td>\n",
       "      <td>just right</td>\n",
       "      <td>5.0</td>\n",
       "      <td>NaN</td>\n",
       "      <td>NaN</td>\n",
       "      <td>NaN</td>\n",
       "      <td>NaN</td>\n",
       "      <td>7</td>\n",
       "      <td>991571</td>\n",
       "      <td>Emily</td>\n",
       "      <td>29.0</td>\n",
       "    </tr>\n",
       "    <tr>\n",
       "      <th>1</th>\n",
       "      <td>36.0</td>\n",
       "      <td>NaN</td>\n",
       "      <td>new</td>\n",
       "      <td>b</td>\n",
       "      <td>small</td>\n",
       "      <td>5ft 2in</td>\n",
       "      <td>30.0</td>\n",
       "      <td>123373</td>\n",
       "      <td>just right</td>\n",
       "      <td>3.0</td>\n",
       "      <td>NaN</td>\n",
       "      <td>NaN</td>\n",
       "      <td>NaN</td>\n",
       "      <td>NaN</td>\n",
       "      <td>13</td>\n",
       "      <td>587883</td>\n",
       "      <td>sydneybraden2001</td>\n",
       "      <td>31.0</td>\n",
       "    </tr>\n",
       "    <tr>\n",
       "      <th>2</th>\n",
       "      <td>32.0</td>\n",
       "      <td>NaN</td>\n",
       "      <td>new</td>\n",
       "      <td>b</td>\n",
       "      <td>small</td>\n",
       "      <td>5ft 7in</td>\n",
       "      <td>NaN</td>\n",
       "      <td>123373</td>\n",
       "      <td>slightly long</td>\n",
       "      <td>2.0</td>\n",
       "      <td>NaN</td>\n",
       "      <td>NaN</td>\n",
       "      <td>9.0</td>\n",
       "      <td>NaN</td>\n",
       "      <td>7</td>\n",
       "      <td>395665</td>\n",
       "      <td>Ugggh</td>\n",
       "      <td>30.0</td>\n",
       "    </tr>\n",
       "    <tr>\n",
       "      <th>3</th>\n",
       "      <td>NaN</td>\n",
       "      <td>NaN</td>\n",
       "      <td>new</td>\n",
       "      <td>dd/e</td>\n",
       "      <td>fit</td>\n",
       "      <td>NaN</td>\n",
       "      <td>NaN</td>\n",
       "      <td>123373</td>\n",
       "      <td>just right</td>\n",
       "      <td>5.0</td>\n",
       "      <td>NaN</td>\n",
       "      <td>NaN</td>\n",
       "      <td>NaN</td>\n",
       "      <td>NaN</td>\n",
       "      <td>21</td>\n",
       "      <td>875643</td>\n",
       "      <td>alexmeyer626</td>\n",
       "      <td>NaN</td>\n",
       "    </tr>\n",
       "    <tr>\n",
       "      <th>4</th>\n",
       "      <td>36.0</td>\n",
       "      <td>NaN</td>\n",
       "      <td>new</td>\n",
       "      <td>b</td>\n",
       "      <td>small</td>\n",
       "      <td>5ft 2in</td>\n",
       "      <td>NaN</td>\n",
       "      <td>123373</td>\n",
       "      <td>slightly long</td>\n",
       "      <td>5.0</td>\n",
       "      <td>NaN</td>\n",
       "      <td>NaN</td>\n",
       "      <td>NaN</td>\n",
       "      <td>NaN</td>\n",
       "      <td>18</td>\n",
       "      <td>944840</td>\n",
       "      <td>dberrones1</td>\n",
       "      <td>NaN</td>\n",
       "    </tr>\n",
       "  </tbody>\n",
       "</table>\n",
       "</div>"
      ],
      "text/plain": [
       "   bra size bust category cup size    fit   height  hips  item_id  \\\n",
       "0      34.0   36      new        d  small  5ft 6in  38.0   123373   \n",
       "1      36.0  NaN      new        b  small  5ft 2in  30.0   123373   \n",
       "2      32.0  NaN      new        b  small  5ft 7in   NaN   123373   \n",
       "3       NaN  NaN      new     dd/e    fit      NaN   NaN   123373   \n",
       "4      36.0  NaN      new        b  small  5ft 2in   NaN   123373   \n",
       "\n",
       "          length  quality review_summary review_text  shoe size shoe width  \\\n",
       "0     just right      5.0            NaN         NaN        NaN        NaN   \n",
       "1     just right      3.0            NaN         NaN        NaN        NaN   \n",
       "2  slightly long      2.0            NaN         NaN        9.0        NaN   \n",
       "3     just right      5.0            NaN         NaN        NaN        NaN   \n",
       "4  slightly long      5.0            NaN         NaN        NaN        NaN   \n",
       "\n",
       "   size  user_id         user_name  waist  \n",
       "0     7   991571             Emily   29.0  \n",
       "1    13   587883  sydneybraden2001   31.0  \n",
       "2     7   395665             Ugggh   30.0  \n",
       "3    21   875643      alexmeyer626    NaN  \n",
       "4    18   944840        dberrones1    NaN  "
      ]
     },
     "execution_count": 4,
     "metadata": {},
     "output_type": "execute_result"
    }
   ],
   "source": [
    "df.head()"
   ]
  },
  {
   "cell_type": "code",
   "execution_count": 5,
   "metadata": {},
   "outputs": [],
   "source": [
    "df.rename(columns={'bra size':'bra_size','cup size':'cup_size','shoe size':'shoe_size','shoe width':'shoe_width'},inplace=True)"
   ]
  },
  {
   "cell_type": "code",
   "execution_count": 7,
   "metadata": {},
   "outputs": [
    {
     "data": {
      "text/plain": [
       "bra_size          0.072690\n",
       "bust              0.856818\n",
       "category          0.000000\n",
       "cup_size          0.075553\n",
       "fit               0.000000\n",
       "height            0.013371\n",
       "hips              0.322817\n",
       "item_id           0.000000\n",
       "length            0.000423\n",
       "quality           0.000821\n",
       "review_summary    0.081230\n",
       "review_text       0.081230\n",
       "shoe_size         0.662822\n",
       "shoe_width        0.775251\n",
       "size              0.000000\n",
       "user_id           0.000000\n",
       "user_name         0.000000\n",
       "waist             0.965189\n",
       "dtype: float64"
      ]
     },
     "execution_count": 7,
     "metadata": {},
     "output_type": "execute_result"
    }
   ],
   "source": [
    "df.isnull().sum()/len(df)"
   ]
  },
  {
   "cell_type": "code",
   "execution_count": 8,
   "metadata": {},
   "outputs": [],
   "source": [
    "df=df.drop(['waist', 'bust', 'user_name','review_text','review_summary','shoe_size','shoe_width'],axis=1)\n",
    "df.dropna(subset=['height','length','quality'],inplace=True)\n",
    "df['bra_size'].fillna((df['bra_size'].mean()), inplace=True)\n",
    "df['hips'].fillna((df['hips'].mean()), inplace=True)\n",
    "df['hips'].fillna((df['hips'].mean()), inplace=True)\n",
    "df['cup_size'].fillna((df['cup_size'].mode()[0]), inplace=True)"
   ]
  },
  {
   "cell_type": "code",
   "execution_count": 9,
   "metadata": {},
   "outputs": [
    {
     "data": {
      "text/plain": [
       "bra_size    0\n",
       "category    0\n",
       "cup_size    0\n",
       "fit         0\n",
       "height      0\n",
       "hips        0\n",
       "item_id     0\n",
       "length      0\n",
       "quality     0\n",
       "size        0\n",
       "user_id     0\n",
       "dtype: int64"
      ]
     },
     "execution_count": 9,
     "metadata": {},
     "output_type": "execute_result"
    }
   ],
   "source": [
    "df.isnull().sum()"
   ]
  },
  {
   "cell_type": "code",
   "execution_count": 10,
   "metadata": {},
   "outputs": [
    {
     "data": {
      "text/html": [
       "<div>\n",
       "<style scoped>\n",
       "    .dataframe tbody tr th:only-of-type {\n",
       "        vertical-align: middle;\n",
       "    }\n",
       "\n",
       "    .dataframe tbody tr th {\n",
       "        vertical-align: top;\n",
       "    }\n",
       "\n",
       "    .dataframe thead th {\n",
       "        text-align: right;\n",
       "    }\n",
       "</style>\n",
       "<table border=\"1\" class=\"dataframe\">\n",
       "  <thead>\n",
       "    <tr style=\"text-align: right;\">\n",
       "      <th></th>\n",
       "      <th>bra_size</th>\n",
       "      <th>category</th>\n",
       "      <th>cup_size</th>\n",
       "      <th>fit</th>\n",
       "      <th>height</th>\n",
       "      <th>hips</th>\n",
       "      <th>item_id</th>\n",
       "      <th>length</th>\n",
       "      <th>quality</th>\n",
       "      <th>size</th>\n",
       "      <th>user_id</th>\n",
       "    </tr>\n",
       "  </thead>\n",
       "  <tbody>\n",
       "    <tr>\n",
       "      <th>0</th>\n",
       "      <td>34.0</td>\n",
       "      <td>new</td>\n",
       "      <td>d</td>\n",
       "      <td>small</td>\n",
       "      <td>5ft 6in</td>\n",
       "      <td>38.00000</td>\n",
       "      <td>123373</td>\n",
       "      <td>just right</td>\n",
       "      <td>5.0</td>\n",
       "      <td>7</td>\n",
       "      <td>991571</td>\n",
       "    </tr>\n",
       "    <tr>\n",
       "      <th>1</th>\n",
       "      <td>36.0</td>\n",
       "      <td>new</td>\n",
       "      <td>b</td>\n",
       "      <td>small</td>\n",
       "      <td>5ft 2in</td>\n",
       "      <td>30.00000</td>\n",
       "      <td>123373</td>\n",
       "      <td>just right</td>\n",
       "      <td>3.0</td>\n",
       "      <td>13</td>\n",
       "      <td>587883</td>\n",
       "    </tr>\n",
       "    <tr>\n",
       "      <th>2</th>\n",
       "      <td>32.0</td>\n",
       "      <td>new</td>\n",
       "      <td>b</td>\n",
       "      <td>small</td>\n",
       "      <td>5ft 7in</td>\n",
       "      <td>40.35414</td>\n",
       "      <td>123373</td>\n",
       "      <td>slightly long</td>\n",
       "      <td>2.0</td>\n",
       "      <td>7</td>\n",
       "      <td>395665</td>\n",
       "    </tr>\n",
       "    <tr>\n",
       "      <th>4</th>\n",
       "      <td>36.0</td>\n",
       "      <td>new</td>\n",
       "      <td>b</td>\n",
       "      <td>small</td>\n",
       "      <td>5ft 2in</td>\n",
       "      <td>40.35414</td>\n",
       "      <td>123373</td>\n",
       "      <td>slightly long</td>\n",
       "      <td>5.0</td>\n",
       "      <td>18</td>\n",
       "      <td>944840</td>\n",
       "    </tr>\n",
       "    <tr>\n",
       "      <th>5</th>\n",
       "      <td>36.0</td>\n",
       "      <td>new</td>\n",
       "      <td>c</td>\n",
       "      <td>small</td>\n",
       "      <td>5ft 4in</td>\n",
       "      <td>41.00000</td>\n",
       "      <td>123373</td>\n",
       "      <td>just right</td>\n",
       "      <td>5.0</td>\n",
       "      <td>11</td>\n",
       "      <td>162012</td>\n",
       "    </tr>\n",
       "  </tbody>\n",
       "</table>\n",
       "</div>"
      ],
      "text/plain": [
       "   bra_size category cup_size    fit   height      hips  item_id  \\\n",
       "0      34.0      new        d  small  5ft 6in  38.00000   123373   \n",
       "1      36.0      new        b  small  5ft 2in  30.00000   123373   \n",
       "2      32.0      new        b  small  5ft 7in  40.35414   123373   \n",
       "4      36.0      new        b  small  5ft 2in  40.35414   123373   \n",
       "5      36.0      new        c  small  5ft 4in  41.00000   123373   \n",
       "\n",
       "          length  quality  size  user_id  \n",
       "0     just right      5.0     7   991571  \n",
       "1     just right      3.0    13   587883  \n",
       "2  slightly long      2.0     7   395665  \n",
       "4  slightly long      5.0    18   944840  \n",
       "5     just right      5.0    11   162012  "
      ]
     },
     "execution_count": 10,
     "metadata": {},
     "output_type": "execute_result"
    }
   ],
   "source": [
    "df.head()"
   ]
  },
  {
   "cell_type": "code",
   "execution_count": 32,
   "metadata": {},
   "outputs": [
    {
     "data": {
      "text/plain": [
       "(81594, 11)"
      ]
     },
     "execution_count": 32,
     "metadata": {},
     "output_type": "execute_result"
    }
   ],
   "source": [
    "df.shape"
   ]
  },
  {
   "cell_type": "code",
   "execution_count": 11,
   "metadata": {},
   "outputs": [
    {
     "data": {
      "text/plain": [
       "<matplotlib.axes._subplots.AxesSubplot at 0x2cd83cdb8d0>"
      ]
     },
     "execution_count": 11,
     "metadata": {},
     "output_type": "execute_result"
    },
    {
     "data": {
      "image/png": "[encoded data removed]",
      "text/plain": [
       "<Figure size 432x288 with 1 Axes>"
      ]
     },
     "metadata": {
      "needs_background": "light"
     },
     "output_type": "display_data"
    }
   ],
   "source": [
    "sns.countplot(df['fit'])"
   ]
  },
  {
   "cell_type": "code",
   "execution_count": 12,
   "metadata": {},
   "outputs": [],
   "source": [
    "X=df.drop('fit',axis=1)\n",
    "y=df.fit\n",
    "X_train,X_test,y_train,y_test=train_test_split(X,y,test_size=0.33,random_state=6)"
   ]
  },
  {
   "cell_type": "code",
   "execution_count": 13,
   "metadata": {},
   "outputs": [],
   "source": [
    "def plot_barh(df,col, cmap = None, stacked=False, norm = None):\n",
    "    df.plot(kind='barh', colormap=cmap, stacked=stacked)\n",
    "    fig = plt.gcf()\n",
    "    fig.set_size_inches(24,12)\n",
    "    plt.title(\"Category vs {}-feedback -  cloth {}\".format(col, '(Normalized)' if norm else ''), fontsize= 20)\n",
    "    plt.ylabel('Category', fontsize = 18)\n",
    "    plot = plt.xlabel('Frequency', fontsize=18)"
   ]
  },
  {
   "cell_type": "code",
   "execution_count": 16,
   "metadata": {},
   "outputs": [
    {
     "data": {
      "text/plain": [
       "<matplotlib.axes._subplots.AxesSubplot at 0x2cd84234978>"
      ]
     },
     "execution_count": 16,
     "metadata": {},
     "output_type": "execute_result"
    },
    {
     "data": {
      "image/png": "[encoded data removed]",
      "text/plain": [
       "<Figure size 432x288 with 1 Axes>"
      ]
     },
     "metadata": {
      "needs_background": "light"
     },
     "output_type": "display_data"
    }
   ],
   "source": [
    "sns.countplot(df.category)"
   ]
  },
  {
   "cell_type": "code",
   "execution_count": 14,
   "metadata": {},
   "outputs": [
    {
     "data": {
      "image/png": "[encoded data removed]",
      "text/plain": [
       "<Figure size 1728x864 with 1 Axes>"
      ]
     },
     "metadata": {
      "needs_background": "light"
     },
     "output_type": "display_data"
    }
   ],
   "source": [
    "g_by_category=df.groupby('category')\n",
    "cat_fit=g_by_category.fit.value_counts()\n",
    "cat_fit=cat_fit.unstack()\n",
    "plot_barh(cat_fit,'fit')"
   ]
  },
  {
   "cell_type": "code",
   "execution_count": 15,
   "metadata": {},
   "outputs": [
    {
     "data": {
      "image/png": "[encoded data removed]",
      "text/plain": [
       "<Figure size 1728x864 with 1 Axes>"
      ]
     },
     "metadata": {
      "needs_background": "light"
     },
     "output_type": "display_data"
    }
   ],
   "source": [
    "cat_len=g_by_category.length.value_counts()\n",
    "cat_len=cat_len.unstack()\n",
    "plot_barh(cat_len,'length')"
   ]
  },
  {
   "cell_type": "code",
   "execution_count": 17,
   "metadata": {},
   "outputs": [],
   "source": [
    "def get_cms(x):\n",
    "    if type(x) == type(1.0):\n",
    "        return\n",
    "\n",
    "    try: \n",
    "        return (int(x[0])*30.48) + (int(x[4:-2])*2.54)\n",
    "    except:\n",
    "        return (int(x[0])*30.48)"
   ]
  },
  {
   "cell_type": "code",
   "execution_count": 18,
   "metadata": {},
   "outputs": [],
   "source": [
    "X_train.height=X_train['height'].apply(get_cms)\n",
    "X_test.height=X_test['height'].apply(get_cms)"
   ]
  },
  {
   "cell_type": "code",
   "execution_count": 19,
   "metadata": {},
   "outputs": [],
   "source": [
    "X_train=pd.get_dummies(X_train,columns=['category','cup_size','length'])\n",
    "X_test=pd.get_dummies(X_test,columns=['category','cup_size','length'])"
   ]
  },
  {
   "cell_type": "code",
   "execution_count": 28,
   "metadata": {},
   "outputs": [],
   "source": [
    "from sklearn.tree import DecisionTreeClassifier\n",
    "from sklearn.metrics import accuracy_score,f1_score,precision_score,recall_score,roc_auc_score,classification_report\n",
    "def params(yt,yp):\n",
    "  print('Accuracy:',accuracy_score(yt,yp))\n",
    "  print('F1score:',f1_score(yt,yp,average=None))\n",
    "  print('Prec:',precision_score(yt,yp,average=None))\n",
    "  print('Recall',recall_score(yt,yp,average=None))\n",
    "  print('-'*10)"
   ]
  },
  {
   "cell_type": "code",
   "execution_count": 44,
   "metadata": {},
   "outputs": [
    {
     "name": "stdout",
     "output_type": "stream",
     "text": [
      "Test\n",
      "Accuracy: 0.5832435845062577\n",
      "F1score: [0.72249436 0.29272748 0.29599178]\n",
      "Prec: [0.73697507 0.28182018 0.28383706]\n",
      "Recall [0.70857174 0.30451306 0.30923407]\n",
      "----------\n",
      "Train\n",
      "Accuracy: 1.0\n",
      "F1score: [1. 1. 1.]\n",
      "Prec: [1. 1. 1.]\n",
      "Recall [1. 1. 1.]\n",
      "----------\n"
     ]
    }
   ],
   "source": [
    "model=DecisionTreeClassifier(random_state=6)\n",
    "model.fit(X_train,y_train)\n",
    "y_pred=model.predict(X_test)\n",
    "y_train_pred=model.predict(X_train)\n",
    "print('Test')\n",
    "params(y_test,y_pred)\n",
    "print('Train')\n",
    "params(y_train,y_train_pred)"
   ]
  },
  {
   "cell_type": "code",
   "execution_count": 48,
   "metadata": {},
   "outputs": [],
   "source": [
    "from sklearn.model_selection import GridSearchCV"
   ]
  },
  {
   "cell_type": "code",
   "execution_count": 56,
   "metadata": {},
   "outputs": [
    {
     "name": "stdout",
     "output_type": "stream",
     "text": [
      "Test\n",
      "Accuracy: 0.6998180265161362\n",
      "F1score: [0.81899247 0.24951473 0.18236233]\n",
      "Prec: [0.71727048 0.48524365 0.55663825]\n",
      "Recall [0.95433445 0.16793349 0.10904319]\n",
      "----------\n",
      "Train\n",
      "Accuracy: 0.6983920829751038\n",
      "F1score: [0.81786502 0.2541047  0.17881706]\n",
      "Prec: [0.71460517 0.49381891 0.57268722]\n",
      "Recall [0.95600727 0.17106481 0.10594947]\n",
      "----------\n",
      "{'criterion': 'entropy', 'max_depth': 5, 'min_samples_leaf': 1}\n"
     ]
    }
   ],
   "source": [
    "weights = np.linspace(0.05, 0.95, 20)\n",
    "parameters = {'max_depth':[5,10],'criterion':['gini','entropy'],'min_samples_leaf':[0.5,1,5,10]}\n",
    "\n",
    "grid=GridSearchCV(estimator=model,param_grid=parameters)\n",
    "grid.fit(X_train,y_train)\n",
    "y_pred_grid=grid.predict(X_test)\n",
    "y_train_pred_grid=grid.predict(X_train)\n",
    "print('Test')\n",
    "params(y_test,y_pred_grid)\n",
    "print('Train')\n",
    "params(y_train,y_train_pred_grid)\n",
    "print(grid.best_params_)"
   ]
  },
  {
   "cell_type": "code",
   "execution_count": null,
   "metadata": {},
   "outputs": [],
   "source": []
  }
 ],
 "metadata": {
  "kernelspec": {
   "display_name": "Python 3",
   "language": "python",
   "name": "python3"
  },
  "language_info": {
   "codemirror_mode": {
    "name": "ipython",
    "version": 3
   },
   "file_extension": ".py",
   "mimetype": "text/x-python",
   "name": "python",
   "nbconvert_exporter": "python",
   "pygments_lexer": "ipython3",
   "version": "3.7.0"
  }
 },
 "nbformat": 4,
 "nbformat_minor": 2
}
